{
 "cells": [
  {
   "cell_type": "code",
   "execution_count": 1,
   "id": "a1f3c478-dae2-4636-942e-84f35265ced8",
   "metadata": {},
   "outputs": [],
   "source": [
    "import numpy as np \n",
    "import pandas as pd\n",
    "import matplotlib.pyplot as plt\n",
    "import seaborn as sns\n",
    "import plotly.express as px\n",
    "\n",
    "import torch"
   ]
  },
  {
   "cell_type": "markdown",
   "id": "6c0f1ab5-5297-46ef-8ce7-becda727c0be",
   "metadata": {},
   "source": [
    "## Load the dataset\n",
    "All data include the last 10 years values, coming from yahoo finance"
   ]
  },
  {
   "cell_type": "code",
   "execution_count": 16,
   "id": "ee362e11-214b-40b5-8b1e-93f249483282",
   "metadata": {},
   "outputs": [],
   "source": [
    "google = pd.read_csv('Data/GOOG.csv', index_col='Date', parse_dates=True)\n",
    "apple = pd.read_csv('Data/AAPL.csv', index_col='Date', parse_dates=True)\n",
    "micrsoft = pd.read_csv('Data/MSFT.csv', index_col='Date', parse_dates=True)"
   ]
  },
  {
   "cell_type": "markdown",
   "id": "1aaac4ae-ff0c-4fff-8b99-7d85ea2168fb",
   "metadata": {},
   "source": [
    "## Analysis\n",
    "Analysis step of the project that includes: \n",
    "1. distribution and correlation of closing and opening price\n",
    "2. attributes visualization\n",
    "3. show trend and seasonality"
   ]
  },
  {
   "cell_type": "code",
   "execution_count": null,
   "id": "744ad2dc-82fc-4321-a2d1-3ff9ff014d1b",
   "metadata": {},
   "outputs": [],
   "source": []
  }
 ],
 "metadata": {
  "kernelspec": {
   "display_name": "Python 3 (ipykernel)",
   "language": "python",
   "name": "python3"
  },
  "language_info": {
   "codemirror_mode": {
    "name": "ipython",
    "version": 3
   },
   "file_extension": ".py",
   "mimetype": "text/x-python",
   "name": "python",
   "nbconvert_exporter": "python",
   "pygments_lexer": "ipython3",
   "version": "3.11.4"
  }
 },
 "nbformat": 4,
 "nbformat_minor": 5
}
